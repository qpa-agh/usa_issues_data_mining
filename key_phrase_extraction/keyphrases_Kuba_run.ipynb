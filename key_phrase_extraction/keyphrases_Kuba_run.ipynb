{
 "cells": [
  {
   "cell_type": "code",
   "execution_count": 1,
   "metadata": {},
   "outputs": [
    {
     "data": {
      "text/html": [
       "<div>\n",
       "<style scoped>\n",
       "    .dataframe tbody tr th:only-of-type {\n",
       "        vertical-align: middle;\n",
       "    }\n",
       "\n",
       "    .dataframe tbody tr th {\n",
       "        vertical-align: top;\n",
       "    }\n",
       "\n",
       "    .dataframe thead th {\n",
       "        text-align: right;\n",
       "    }\n",
       "</style>\n",
       "<table border=\"1\" class=\"dataframe\">\n",
       "  <thead>\n",
       "    <tr style=\"text-align: right;\">\n",
       "      <th></th>\n",
       "      <th>representative_party</th>\n",
       "      <th>year</th>\n",
       "      <th>month</th>\n",
       "      <th>full_text</th>\n",
       "    </tr>\n",
       "  </thead>\n",
       "  <tbody>\n",
       "    <tr>\n",
       "      <th>0</th>\n",
       "      <td>D</td>\n",
       "      <td>2024</td>\n",
       "      <td>8</td>\n",
       "      <td>a rare moment of joy sherman statement on isra...</td>\n",
       "    </tr>\n",
       "    <tr>\n",
       "      <th>1</th>\n",
       "      <td>R</td>\n",
       "      <td>2023</td>\n",
       "      <td>3</td>\n",
       "      <td>ag perspective on kfrm am radioit wa great joi...</td>\n",
       "    </tr>\n",
       "    <tr>\n",
       "      <th>2</th>\n",
       "      <td>D</td>\n",
       "      <td>2019</td>\n",
       "      <td>12</td>\n",
       "      <td>astonishing moral cowardice sander and khanna ...</td>\n",
       "    </tr>\n",
       "    <tr>\n",
       "      <th>3</th>\n",
       "      <td>D</td>\n",
       "      <td>2024</td>\n",
       "      <td>9</td>\n",
       "      <td>finally brought to justice congressman sherman...</td>\n",
       "    </tr>\n",
       "    <tr>\n",
       "      <th>4</th>\n",
       "      <td>D</td>\n",
       "      <td>2024</td>\n",
       "      <td>9</td>\n",
       "      <td>i stand with the armenian people sherman meet ...</td>\n",
       "    </tr>\n",
       "  </tbody>\n",
       "</table>\n",
       "</div>"
      ],
      "text/plain": [
       "  representative_party  year  month  \\\n",
       "0                    D  2024      8   \n",
       "1                    R  2023      3   \n",
       "2                    D  2019     12   \n",
       "3                    D  2024      9   \n",
       "4                    D  2024      9   \n",
       "\n",
       "                                           full_text  \n",
       "0  a rare moment of joy sherman statement on isra...  \n",
       "1  ag perspective on kfrm am radioit wa great joi...  \n",
       "2  astonishing moral cowardice sander and khanna ...  \n",
       "3  finally brought to justice congressman sherman...  \n",
       "4  i stand with the armenian people sherman meet ...  "
      ]
     },
     "execution_count": 1,
     "metadata": {},
     "output_type": "execute_result"
    }
   ],
   "source": [
    "import pandas as pd\n",
    "df = pd.read_csv(\"preprocessed_for_keywords.csv\", index_col=0)\n",
    "df.head()"
   ]
  },
  {
   "cell_type": "code",
   "execution_count": 2,
   "metadata": {},
   "outputs": [
    {
     "name": "stderr",
     "output_type": "stream",
     "text": [
      "/home/paulina/usa_issues_data_mining/.venv/lib/python3.10/site-packages/sentence_transformers/cross_encoder/CrossEncoder.py:13: TqdmWarning: IProgress not found. Please update jupyter and ipywidgets. See https://ipywidgets.readthedocs.io/en/stable/user_install.html\n",
      "  from tqdm.autonotebook import tqdm, trange\n"
     ]
    }
   ],
   "source": [
    "from KeyPhraseExtractor import KeyPhraseExtractor\n",
    "from tqdm.autonotebook import tqdm\n",
    "NR_OF_KEYPHRASES = 15\n",
    "topicExtractor = KeyPhraseExtractor(top_k=NR_OF_KEYPHRASES)"
   ]
  },
  {
   "cell_type": "code",
   "execution_count": 5,
   "metadata": {},
   "outputs": [],
   "source": [
    "df[\"keyphrases\"] = df[\"full_text\"].apply(topicExtractor.extractKeyWords)\n",
    "df"
   ]
  },
  {
   "cell_type": "code",
   "execution_count": null,
   "metadata": {},
   "outputs": [],
   "source": [
    "df.to_csv(\"extracted_keywords.csv\")"
   ]
  }
 ],
 "metadata": {
  "kernelspec": {
   "display_name": ".venv",
   "language": "python",
   "name": "python3"
  },
  "language_info": {
   "codemirror_mode": {
    "name": "ipython",
    "version": 3
   },
   "file_extension": ".py",
   "mimetype": "text/x-python",
   "name": "python",
   "nbconvert_exporter": "python",
   "pygments_lexer": "ipython3",
   "version": "3.10.12"
  }
 },
 "nbformat": 4,
 "nbformat_minor": 2
}
