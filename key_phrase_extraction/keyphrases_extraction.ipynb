{
 "cells": [
  {
   "cell_type": "code",
   "execution_count": 1,
   "metadata": {},
   "outputs": [
    {
     "name": "stderr",
     "output_type": "stream",
     "text": [
      "/home/paulina/usa_issues_data_mining/.venv/lib/python3.10/site-packages/sentence_transformers/cross_encoder/CrossEncoder.py:13: TqdmWarning: IProgress not found. Please update jupyter and ipywidgets. See https://ipywidgets.readthedocs.io/en/stable/user_install.html\n",
      "  from tqdm.autonotebook import tqdm, trange\n"
     ]
    },
    {
     "data": {
      "text/plain": [
       "'It was great joining Kyle Baur on KFRM\\'s \"Ag Perspectives\" show to discuss my new legislation, the Family Farms and Small Businesses Exemption Act. The Family Farm and Small Business Exemption Act would ensure that students of owners of family farms or small businesses would not be unfairly penalized in the FAFSA process. For more than 30 years, these exemptions have been the standard, and it’s time to restore them before a new analysis formula goes into effect. This is one measurable way for Congress to support the families who help America thrive.'"
      ]
     },
     "execution_count": 1,
     "metadata": {},
     "output_type": "execute_result"
    }
   ],
   "source": [
    "from KeyPhraseExtractor import KeyPhraseExtractor\n",
    "import pandas as pd\n",
    "\n",
    "df = pd.read_csv('../data/cleaned_merged_articles.csv')\n",
    "df.iloc[0][\"text\"]"
   ]
  },
  {
   "cell_type": "code",
   "execution_count": 2,
   "metadata": {},
   "outputs": [
    {
     "data": {
      "text/plain": [
       "['family farms',\n",
       " 'ag perspectives',\n",
       " 'fafsa process',\n",
       " 'congress',\n",
       " 'legislation',\n",
       " 'great joining kyle baur',\n",
       " 'exemptions',\n",
       " 'families',\n",
       " 'small businesses exemption act',\n",
       " 'small businesses']"
      ]
     },
     "execution_count": 2,
     "metadata": {},
     "output_type": "execute_result"
    }
   ],
   "source": [
    "topicExtractor = KeyPhraseExtractor(model=\"all-mpnet-base-v2\")\n",
    "topicExtractor.extractKeyWords(df.iloc[0][\"text\"], 10)"
   ]
  },
  {
   "cell_type": "code",
   "execution_count": 3,
   "metadata": {},
   "outputs": [
    {
     "name": "stdout",
     "output_type": "stream",
     "text": [
      "President Biden’s budget proves to Congress and the American people that he and his administration are not serious about getting our country’s spending and debt crisis under control. I joined Andy on his show, \"The Voice of Reason\" to discuss why America cannot afford more of the government waste that we've seen over the last two years.\n",
      "['budget proves', 'president biden', 'government waste', 'debt crisis', 'congress', 'spending', 'afford', 'administration', 'discuss', 'american people']\n"
     ]
    }
   ],
   "source": [
    "print(df.iloc[1][\"text\"])\n",
    "print(topicExtractor.extractKeyWords(df.iloc[1][\"text\"], 10))"
   ]
  },
  {
   "cell_type": "code",
   "execution_count": 4,
   "metadata": {},
   "outputs": [
    {
     "name": "stdout",
     "output_type": "stream",
     "text": [
      "Washington, D.C. – U.S. Representative Darren Soto (FL-09) delivered remarks on the House Floor yesterday evening expressing his opposition to the GOP Tax Scam bill. Rep. Soto voted no on the House version of the Republican tax bill, which would raise taxes on Florida's middle-class families. In his remarks on the House Floor, Rep. Soto outlines the GOP Tax Scam: \"Step 1: Cut taxes for powerful billionaires and millionaires. \"Step 2: Grow a giant $2.5 trillion debt, part of that is also to grow the deficit, so we can get to: \"Step 3: use that to justify cuts to Medicare and social security for our seniors. Our ability to protect our environment for the future, education, infrastructure, research and development, our homeland security and our and military, will all see cuts if this goes through,\"The full transcript of Rep. Soto's remarks available below:I'd like to take a moment to provide every American with a plot summary of the GOP tax scam. Step 1: Cut taxes for powerful billionaires and millionaires.Step 2: Grow a giant $2.5 trillion debt, part of that is also to grow the deficit, so we can get to:Step 3: use that to justify cuts to Medicare and social security for our seniors. Our ability to protect our environment for the future, education, infrastructure, research and development, our homeland security and our and military, will all see cuts if this goes through,\"And if you are worried about income inequality, this puts that disparity on steroids by charging the credit card and getting rid of popular deductions to boot and it will ship jobs overseas by lowering the abroad tax rate.But don't take my word for it, will mainstream continues to suffer – Wall Street is throwing a party! With record stock increases, today. So, it's time to take a stand against the GOP Tax scam.\n",
      "['gop tax scam', 'republican tax bill', 'cut taxes', 'gop tax scam bill', 'raise taxes']\n"
     ]
    }
   ],
   "source": [
    "print(df.iloc[2][\"text\"])\n",
    "print(topicExtractor.extractKeyWords(df.iloc[2][\"text\"], 5))"
   ]
  },
  {
   "cell_type": "code",
   "execution_count": 5,
   "metadata": {},
   "outputs": [
    {
     "name": "stdout",
     "output_type": "stream",
     "text": [
      "Washington, D.C. - Today, Congressman Sanford Bishop, a Member of the House Appropriations Committee announced that $1,500,000 was included in the fiscal year 2007 Department of the Interior, Environment and Related Agencies Appropriations Bill to fund infrastructure improvements for Albany and Valdosta. The Interior Appropriations Bill funds the Department of the Interior, the Environmental Protection Agency and other related agencies including, the Forest Service, the Indian Health Service, the Smithsonian Institution and the National Foundation on the Arts and Humanities. The bill includes $1,000,000 for the City of Albany’s “Interceptor pipeline upgrade to the sewer system. Additionally, the bill includes $500,000 for water and waste water infrastructure improvements in the City of Valdosta. “One of the greatest challenges our urban centers face in southwest Georgia is a declining infrastructure. These two projects will aid tremendously in renovating and improving the water and sewer systems in these communities,” stated Congressman Bishop. Another $500,000 is included in the bill for the Georgia Streambank Restoration project. Working with private landowners on non-government lands, the $500,000 will fund a cooperative agreement between the Department of the Interior and the Georgia Soil and Water Conservation Commission. The program will provide incentives for landowners to implement best practices intended to accelerate the restoration and protection of Georgia’s valuable waters. “We are fortunate to have a reliable and abundant natural water supply in Southwest Georgia, to drink, to enjoy with our families and to sustain our agriculture,” said Congressman Bishop. “Continue funding for this project is critical to preserving this tremendous natural resource for us and for our future generations.” The FY07 Interior Appropriations bill was approved by the full Appropriations Committee by voice vote, and is expected to be considered by the full House of Representatives next week.\n",
      "['fund infrastructure improvements', 'fy07 interior appropriations bill', 'georgia streambank restoration project', 'water conservation commission', 'georgia soil']\n"
     ]
    }
   ],
   "source": [
    "print(df.iloc[3][\"text\"])\n",
    "print(topicExtractor.extractKeyWords(df.iloc[3][\"text\"], 5))"
   ]
  },
  {
   "cell_type": "code",
   "execution_count": 6,
   "metadata": {},
   "outputs": [
    {
     "name": "stdout",
     "output_type": "stream",
     "text": [
      "Purdue University Northwest’s (PNW) Center for Innovation through Visualization and Simulation (CIVS) along with industrial, education, federal, and elected leaders gathered to recognize a significant grant of nearly $10 million from the U.S. Department of Energy (DOE)’s Industrial Efficiency and Decarbonization Office to support decarbonization research, development, and demonstration in the steel industry.As part of a sweeping federal initiative to reduce carbon emissions and progress toward net-zero emissions by 2050, the DOE awarded $9.96 million to a CIVS project pioneering an industry-scale demonstration of a hydrogen-fired continuous reheating furnace operation. Partners in the project include ArcelorMittal, Argonne National Laboratory, Cleveland-Cliffs, Gerdau, Linde, Oak Ridge National Laboratory, and the Steel Manufacturing Simulation and Visualization Consortium.“We thank the Department of Energy, our project partners and PNW leadership for supporting this important project, which is expected to make positive impacts to our region and nation,” said Chenn Zhou, NIPSCO Distinguished Professor of Engineering Simulation at PNW and founding director of CIVS. “My special thanks go to our industry co-principal investigators: Joao Gonzaga, senior director of Engineering, and Kevin Kondrat, improvement facilitator of Rolling Mill at Gerdau, and Joe Maiolo, associate director of Research and Development — Metals Applications, from Linde. Our CIVS faculty and student researchers are excited to begin and are looking forward to collaborating with our industrial and research partners to develop and demonstrate the technology to improve the U.S. steel industry’s global competitiveness and reduce carbon emissions.”Federal and elected officials praised the project for its potential to improve air quality while increasing efficiencies in the steel producing process.“I am grateful for the continued leadership of Purdue Northwest’s invaluable Center for Innovation through Visualization and Simulation and this outstanding partnership with the Department of Energy,” said U.S. Rep. Frank J. Mrvan. “Let us continue to build on this momentum to show how Northwest Indiana is the example of how we can create at the same time both a greener future and more economic opportunities.”“Traditionally, the U.S. industrial sector is one of the most difficult to decarbonize across our economy,” said DOE Principal Deputy Assistant Secretary for Energy Efficiency and Renewable Energy Jeff Marootian. “This project will demonstrate how we can curb those emissions with clean hydrogen, potentially changing the U.S. steel industry forever.”PNW Chancellor Thomas L. Keon noted that CIVS’ work is a major part of the university’s mission as a premier metropolitan university.“An important part of PNW’s role in Northwest Indiana is to partner on impactful research that will improve the quality of life for its neighboring communities,” Keon said. “This project will contribute to the significant nationwide effort to develop clean energy solutions for major industrial sectors. To be recognized among other leading universities and research centers is a testament to the outcomes provided by PNW’s faculty and the CIVS team.”This most recent DOE grant will help CIVS to lead a nationwide collaboration between industry, academia and national labs to pioneer a first-of-its-kind industry-scale demonstration of a hydrogen-fired continuous reheating furnace (RF) operation. It will develop and demonstrate hydrogen-firing in an industry-scale RF that operates with a mix of natural gas and hydrogen at various levels, assisted by simulation, visualization and laboratory experiments, as well as supported by life cycle analysis (LCA) to evaluate energy, economic and emissions benefits. It will also establish roadmap strategies and operation schemes for zero-carbon dioxide emission production in commercial furnaces with a state-of-the-art Integrated Virtual Reheating Furnace. Decarbonization is a process that helps reduce industrial output of carbon dioxide greenhouse gas emissions and transition to alternative energy sources that use less carbon.The reheating furnace is used in hot rolling mills to heat steel for further processing in steelmaking. More than 80 reheating furnaces across the U.S. burn natural gas to reheat semi-finished products, generating 200 kg of carbon dioxide per ton of steel, the majority of carbon dioxide in hot strip mill operations. CIVS’ research aims to show how alternative fuels such as hydrogen could reduce or eliminate carbon dioxide emissions.\n",
      "['commercial furnaces', 'heat steel', 'steel industry', 'steel manufacturing simulation', 'first-of-its-kind industry-scale demonstration']\n"
     ]
    }
   ],
   "source": [
    "print(df.iloc[7][\"text\"])\n",
    "print(topicExtractor.extractKeyWords(df.iloc[7][\"text\"], 5))"
   ]
  },
  {
   "cell_type": "code",
   "execution_count": 7,
   "metadata": {},
   "outputs": [
    {
     "name": "stdout",
     "output_type": "stream",
     "text": [
      "On Monday, July 31, 2017, Congresswoman Terri A. Sewell (D-AL) will host Project R.E.A.D.Y. (Realizing Everyone’s Ability to Develop Yourself) at the Shelton State Community College Martin Campus in Tuscaloosa. Project R.E.A.D.Y. will feature training sessions on an array of topics from resume writing and interview skills to educational and workforce opportunities. Online registration for Project R.E.A.D.Y. is free and available here. WHEN: Monday, July 31, 2017 9:00am – 1:00pm WHERE: Shelton State Community College Martin Campus 9500 Old Greensboro Rd Tuscaloosa, AL 35405 WHO: Rep. Terri Sewell will host the Project R.E.A.D.Y. workshop. The training sessions will focus on the areas of career development and educational and workforce opportunities. For more information or to interview Rep. Sewell on her upcoming jobs events in Alabama’s 7th District, contact Chris MacKenzie at christopher.mackenzie@mail.house.gov or by phone at (202) 480-3459. BACKGROUND: Project R.E.A.D.Y. is part of Rep. Sewell’s ongoing workforce training initiative. The initiative focuses on providing attendees with the necessary tools needed to prepare for career readiness and job training. The goal of Project R.E.A.D.Y. is to facilitate employment in Alabama’s 7th Congressional District by promoting job readiness, skills training, and career development. In addition to hosting Project R.E.A.D.Y., Rep. Sewell will host the 6th Annual Congressional Job Fair at the University of West Alabama in Livingston on August 3, 2017. The Job Fair will host over fifty major employers hiring in Alabama. These employers will represent a number of industries ranging from the automotive industry to health services. A full list of employers is available on Rep. Sewell’s website. Online registration for the job fair is free and available here. Since coming to Congress, Rep. Sewell has made job growth a top priority. In the House of Representatives, Rep. Sewell has introduced the Workforce Development Tax Credit Act (H.R. 1190), a bipartisan bill that prepares workers for manufacturing jobs by providing federal tax credits for businesses that offer apprenticeship programs and additional tax credits for companies that hire apprentices. Rep. Terri A. Sewell (D-AL) is serving her fourth term representing Alabama’s 7th Congressional district. She sits on the House Permanent Select Committee on Intelligence and was recently appointed to the powerful House Ways and Means Committee. Sewell is a Chief Deputy Whip and serves on the prestigious Steering and Policy Committee of the Democratic Caucus. She is also a member of the Congressional Black Caucus, and serves as Vice Chair of the Congressional Voting Rights Caucus, and Vice Chair of Outreach for the New Democrat Coalition.\n",
      "['career development', 'workforce opportunities', 'job fair', 'promoting job readiness', 'facilitate employment']\n"
     ]
    }
   ],
   "source": [
    "print(df.iloc[70][\"text\"])\n",
    "print(topicExtractor.extractKeyWords(df.iloc[70][\"text\"], 5))"
   ]
  }
 ],
 "metadata": {
  "kernelspec": {
   "display_name": ".venv",
   "language": "python",
   "name": "python3"
  },
  "language_info": {
   "codemirror_mode": {
    "name": "ipython",
    "version": 3
   },
   "file_extension": ".py",
   "mimetype": "text/x-python",
   "name": "python",
   "nbconvert_exporter": "python",
   "pygments_lexer": "ipython3",
   "version": "3.10.12"
  }
 },
 "nbformat": 4,
 "nbformat_minor": 2
}
