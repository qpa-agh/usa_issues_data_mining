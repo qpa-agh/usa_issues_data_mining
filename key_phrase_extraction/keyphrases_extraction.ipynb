{
 "cells": [
  {
   "cell_type": "code",
   "execution_count": 13,
   "metadata": {},
   "outputs": [
    {
     "data": {
      "text/html": [
       "<div>\n",
       "<style scoped>\n",
       "    .dataframe tbody tr th:only-of-type {\n",
       "        vertical-align: middle;\n",
       "    }\n",
       "\n",
       "    .dataframe tbody tr th {\n",
       "        vertical-align: top;\n",
       "    }\n",
       "\n",
       "    .dataframe thead th {\n",
       "        text-align: right;\n",
       "    }\n",
       "</style>\n",
       "<table border=\"1\" class=\"dataframe\">\n",
       "  <thead>\n",
       "    <tr style=\"text-align: right;\">\n",
       "      <th></th>\n",
       "      <th>representative_party</th>\n",
       "      <th>year</th>\n",
       "      <th>month</th>\n",
       "      <th>full_text</th>\n",
       "    </tr>\n",
       "  </thead>\n",
       "  <tbody>\n",
       "    <tr>\n",
       "      <th>0</th>\n",
       "      <td>D</td>\n",
       "      <td>2024</td>\n",
       "      <td>8</td>\n",
       "      <td>\"A Rare Moment of Joy\" - Sherman Statement on ...</td>\n",
       "    </tr>\n",
       "    <tr>\n",
       "      <th>1</th>\n",
       "      <td>R</td>\n",
       "      <td>2023</td>\n",
       "      <td>3</td>\n",
       "      <td>\"Ag Perspectives\" on KFRM 550AM RadioIt was gr...</td>\n",
       "    </tr>\n",
       "    <tr>\n",
       "      <th>2</th>\n",
       "      <td>D</td>\n",
       "      <td>2019</td>\n",
       "      <td>12</td>\n",
       "      <td>\"Astonishing Moral Cowardice': Sanders and Kha...</td>\n",
       "    </tr>\n",
       "    <tr>\n",
       "      <th>3</th>\n",
       "      <td>D</td>\n",
       "      <td>2024</td>\n",
       "      <td>9</td>\n",
       "      <td>\"Finally Brought to Justice\" - Congressman She...</td>\n",
       "    </tr>\n",
       "    <tr>\n",
       "      <th>4</th>\n",
       "      <td>D</td>\n",
       "      <td>2024</td>\n",
       "      <td>9</td>\n",
       "      <td>\"I stand with the Armenian people\" - Sherman m...</td>\n",
       "    </tr>\n",
       "  </tbody>\n",
       "</table>\n",
       "</div>"
      ],
      "text/plain": [
       "  representative_party  year  month  \\\n",
       "0                    D  2024      8   \n",
       "1                    R  2023      3   \n",
       "2                    D  2019     12   \n",
       "3                    D  2024      9   \n",
       "4                    D  2024      9   \n",
       "\n",
       "                                           full_text  \n",
       "0  \"A Rare Moment of Joy\" - Sherman Statement on ...  \n",
       "1  \"Ag Perspectives\" on KFRM 550AM RadioIt was gr...  \n",
       "2  \"Astonishing Moral Cowardice': Sanders and Kha...  \n",
       "3  \"Finally Brought to Justice\" - Congressman She...  \n",
       "4  \"I stand with the Armenian people\" - Sherman m...  "
      ]
     },
     "execution_count": 13,
     "metadata": {},
     "output_type": "execute_result"
    }
   ],
   "source": [
    "from KeyPhraseExtractor import KeyPhraseExtractor\n",
    "import pandas as pd\n",
    "\n",
    "df = pd.read_csv('../data/cleaned_merged_all_articles.csv', index_col=0).drop(columns=[\"representative_committee\", \"representative_state\", \"representative_name\", \"issue\"])\n",
    "df['year'] = pd.DatetimeIndex(df['date']).year\n",
    "df['month'] = pd.DatetimeIndex(df['date']).month\n",
    "df[\"full_text\"] = df[\"title\"]+df[\"text\"]\n",
    "df = df.drop(columns=[\"title\", \"text\", \"date\"])\n",
    "df.head()"
   ]
  },
  {
   "cell_type": "code",
   "execution_count": 15,
   "metadata": {},
   "outputs": [],
   "source": [
    "import re\n",
    "import nltk\n",
    "from nltk.stem import WordNetLemmatizer\n",
    "\n",
    "lemmatizer = WordNetLemmatizer()\n",
    "\n",
    "def preprocess_text(text: str) -> str:\n",
    "    text = re.sub(r\"http\\S+\", \"\", text) # remove links\n",
    "    text = re.sub(\"[^A-Za-z]+\", \" \", text) # remove special characters and numbers\n",
    "    tokens = nltk.word_tokenize(text.lower()) # tokenization\n",
    "    tokens = [lemmatizer.lemmatize(w) for w in tokens] # remove stop words + lemmatization\n",
    "    text = \" \".join(tokens)\n",
    "    text = text.lower().strip()\n",
    "    return text\n",
    "\n",
    "\n",
    "df.loc[:, \"full_text\"] = df[\"full_text\"].apply(lambda text: preprocess_text(text))\n",
    "df = df[df[\"full_text\"] != \"\"]"
   ]
  },
  {
   "cell_type": "code",
   "execution_count": 16,
   "metadata": {},
   "outputs": [],
   "source": [
    "df.to_csv(\"preprocessed_for_keywords.csv\")"
   ]
  },
  {
   "cell_type": "code",
   "execution_count": 17,
   "metadata": {},
   "outputs": [
    {
     "data": {
      "text/plain": [
       "'a rare moment of joy sherman statement on israeli hostage rescue from gazawashington d c today congressman brad sherman ca senior member of the house foreign affair committee and co chair of the house israel allied caucus released the following statement on the israeli military s rescue of an israeli arab from hamas captivity for grueling month israel ha risked the life of it soldier to rescue all the hostage held captive by hamas today their bravery secured the rescue of qaid farhan alkadi a year old father and member of israel s arab bedouin community a rare moment of joy made possible by israel s indiscriminate zeal for justice and a stark reminder that more work remains to bring all the hostage home now today s rescue of qaid farhan alkadi is the eighth hostage to be rescued alive of the approximately abducted month ago and the first israeli arab hostage to be rescued alive since october'"
      ]
     },
     "execution_count": 17,
     "metadata": {},
     "output_type": "execute_result"
    }
   ],
   "source": [
    "df.iloc[0][\"full_text\"]"
   ]
  },
  {
   "cell_type": "code",
   "execution_count": 18,
   "metadata": {},
   "outputs": [
    {
     "data": {
      "text/plain": [
       "['million grant',\n",
       " 'million grant awarded',\n",
       " 'transportation grant tuesday august',\n",
       " 'taxiway memorial field',\n",
       " 'fund reconstruction',\n",
       " 'infrastructure committee',\n",
       " 'grant',\n",
       " 'memorial field',\n",
       " 'infrastructure improvement',\n",
       " 'hot spring functional']"
      ]
     },
     "execution_count": 18,
     "metadata": {},
     "output_type": "execute_result"
    }
   ],
   "source": [
    "topicExtractor = KeyPhraseExtractor()\n",
    "topicExtractor.extractKeyWords(df.iloc[10][\"full_text\"], 10)"
   ]
  },
  {
   "cell_type": "code",
   "execution_count": 19,
   "metadata": {},
   "outputs": [
    {
     "data": {
      "text/html": [
       "<div>\n",
       "<style scoped>\n",
       "    .dataframe tbody tr th:only-of-type {\n",
       "        vertical-align: middle;\n",
       "    }\n",
       "\n",
       "    .dataframe tbody tr th {\n",
       "        vertical-align: top;\n",
       "    }\n",
       "\n",
       "    .dataframe thead th {\n",
       "        text-align: right;\n",
       "    }\n",
       "</style>\n",
       "<table border=\"1\" class=\"dataframe\">\n",
       "  <thead>\n",
       "    <tr style=\"text-align: right;\">\n",
       "      <th></th>\n",
       "      <th>representative_party</th>\n",
       "      <th>year</th>\n",
       "      <th>month</th>\n",
       "      <th>full_text</th>\n",
       "    </tr>\n",
       "  </thead>\n",
       "  <tbody>\n",
       "    <tr>\n",
       "      <th>0</th>\n",
       "      <td>D</td>\n",
       "      <td>2024</td>\n",
       "      <td>8</td>\n",
       "      <td>a rare moment of joy sherman statement on isra...</td>\n",
       "    </tr>\n",
       "    <tr>\n",
       "      <th>1</th>\n",
       "      <td>R</td>\n",
       "      <td>2023</td>\n",
       "      <td>3</td>\n",
       "      <td>ag perspective on kfrm am radioit wa great joi...</td>\n",
       "    </tr>\n",
       "    <tr>\n",
       "      <th>2</th>\n",
       "      <td>D</td>\n",
       "      <td>2019</td>\n",
       "      <td>12</td>\n",
       "      <td>astonishing moral cowardice sander and khanna ...</td>\n",
       "    </tr>\n",
       "    <tr>\n",
       "      <th>3</th>\n",
       "      <td>D</td>\n",
       "      <td>2024</td>\n",
       "      <td>9</td>\n",
       "      <td>finally brought to justice congressman sherman...</td>\n",
       "    </tr>\n",
       "    <tr>\n",
       "      <th>4</th>\n",
       "      <td>D</td>\n",
       "      <td>2024</td>\n",
       "      <td>9</td>\n",
       "      <td>i stand with the armenian people sherman meet ...</td>\n",
       "    </tr>\n",
       "    <tr>\n",
       "      <th>...</th>\n",
       "      <td>...</td>\n",
       "      <td>...</td>\n",
       "      <td>...</td>\n",
       "      <td>...</td>\n",
       "    </tr>\n",
       "    <tr>\n",
       "      <th>25639</th>\n",
       "      <td>D</td>\n",
       "      <td>2020</td>\n",
       "      <td>2</td>\n",
       "      <td>trump s public charge rule is cruel and comple...</td>\n",
       "    </tr>\n",
       "    <tr>\n",
       "      <th>25640</th>\n",
       "      <td>R</td>\n",
       "      <td>2016</td>\n",
       "      <td>6</td>\n",
       "      <td>we must have a tax code built for growth weste...</td>\n",
       "    </tr>\n",
       "    <tr>\n",
       "      <th>25641</th>\n",
       "      <td>D</td>\n",
       "      <td>2022</td>\n",
       "      <td>10</td>\n",
       "      <td>we need to close the aliso canyon facility now...</td>\n",
       "    </tr>\n",
       "    <tr>\n",
       "      <th>25642</th>\n",
       "      <td>R</td>\n",
       "      <td>2021</td>\n",
       "      <td>7</td>\n",
       "      <td>we are not a dumping ground for other county s...</td>\n",
       "    </tr>\n",
       "    <tr>\n",
       "      <th>25643</th>\n",
       "      <td>R</td>\n",
       "      <td>2024</td>\n",
       "      <td>8</td>\n",
       "      <td>congresswoman nancy mace sends letter to inves...</td>\n",
       "    </tr>\n",
       "  </tbody>\n",
       "</table>\n",
       "<p>25644 rows × 4 columns</p>\n",
       "</div>"
      ],
      "text/plain": [
       "      representative_party  year  month  \\\n",
       "0                        D  2024      8   \n",
       "1                        R  2023      3   \n",
       "2                        D  2019     12   \n",
       "3                        D  2024      9   \n",
       "4                        D  2024      9   \n",
       "...                    ...   ...    ...   \n",
       "25639                    D  2020      2   \n",
       "25640                    R  2016      6   \n",
       "25641                    D  2022     10   \n",
       "25642                    R  2021      7   \n",
       "25643                    R  2024      8   \n",
       "\n",
       "                                               full_text  \n",
       "0      a rare moment of joy sherman statement on isra...  \n",
       "1      ag perspective on kfrm am radioit wa great joi...  \n",
       "2      astonishing moral cowardice sander and khanna ...  \n",
       "3      finally brought to justice congressman sherman...  \n",
       "4      i stand with the armenian people sherman meet ...  \n",
       "...                                                  ...  \n",
       "25639  trump s public charge rule is cruel and comple...  \n",
       "25640  we must have a tax code built for growth weste...  \n",
       "25641  we need to close the aliso canyon facility now...  \n",
       "25642  we are not a dumping ground for other county s...  \n",
       "25643  congresswoman nancy mace sends letter to inves...  \n",
       "\n",
       "[25644 rows x 4 columns]"
      ]
     },
     "execution_count": 19,
     "metadata": {},
     "output_type": "execute_result"
    }
   ],
   "source": [
    "df"
   ]
  }
 ],
 "metadata": {
  "kernelspec": {
   "display_name": ".venv",
   "language": "python",
   "name": "python3"
  },
  "language_info": {
   "codemirror_mode": {
    "name": "ipython",
    "version": 3
   },
   "file_extension": ".py",
   "mimetype": "text/x-python",
   "name": "python",
   "nbconvert_exporter": "python",
   "pygments_lexer": "ipython3",
   "version": "3.10.12"
  }
 },
 "nbformat": 4,
 "nbformat_minor": 2
}
